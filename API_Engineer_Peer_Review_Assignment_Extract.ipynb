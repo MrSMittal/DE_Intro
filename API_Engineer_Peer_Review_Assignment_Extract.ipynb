{
 "cells": [
  {
   "cell_type": "markdown",
   "metadata": {},
   "source": [
    "<p style=\"text-align:center\">\n",
    "    <a href=\"https://skills.network/?utm_medium=Exinfluencer&utm_source=Exinfluencer&utm_content=000026UJ&utm_term=10006555&utm_id=NA-SkillsNetwork-Channel-SkillsNetworkCoursesIBMDeveloperSkillsNetworkPY0221ENSkillsNetwork899-2023-01-01\">\n",
    "    <img src=\"https://cf-courses-data.s3.us.cloud-object-storage.appdomain.cloud/assets/logos/SN_web_lightmode.png\" width=\"200\" alt=\"Skills Network Logo\"  />\n",
    "    </a>\n",
    "</p>\n"
   ]
  },
  {
   "cell_type": "markdown",
   "metadata": {},
   "source": [
    "# Peer Review Assignment - Data Engineer - Extract API Data\n"
   ]
  },
  {
   "cell_type": "markdown",
   "metadata": {},
   "source": [
    "Estimated time needed: **20** minutes\n"
   ]
  },
  {
   "cell_type": "markdown",
   "metadata": {},
   "source": [
    "## Objectives\n",
    "\n",
    "In this part you will:\n",
    "\n",
    "-   Collect exchange rate data using an API\n",
    "-   Store the data as a CSV\n"
   ]
  },
  {
   "cell_type": "markdown",
   "metadata": {},
   "source": [
    "For this lab, we are going to be using Python and several Python libraries. Some of these libraries might be installed in your lab environment or in SN Labs. Others may need to be installed by you. The cells below will install these libraries when executed.\n"
   ]
  },
  {
   "cell_type": "code",
   "execution_count": 1,
   "metadata": {
    "tags": []
   },
   "outputs": [],
   "source": [
    "#!mamba install pandas==1.3.3 -y\n",
    "#!mamba install requests==2.26.0 -y"
   ]
  },
  {
   "cell_type": "markdown",
   "metadata": {},
   "source": [
    "## Imports\n",
    "\n",
    "Import any additional libraries you may need here.\n"
   ]
  },
  {
   "cell_type": "code",
   "execution_count": 2,
   "metadata": {
    "tags": []
   },
   "outputs": [],
   "source": [
    "import requests\n",
    "import pandas as pd"
   ]
  },
  {
   "cell_type": "markdown",
   "metadata": {},
   "source": [
    "## Extract Data Using an API\n"
   ]
  },
  {
   "cell_type": "markdown",
   "metadata": {},
   "source": [
    "Using ExchangeRate-API we will extract currency exchange rate data. Use the below steps to get the access key and to get the data. \n",
    "1. Open the url : https://exchangeratesapi.io/ and click on **Get Free API Key**. \n",
    "2. Subscribe for Free plan and Sign-in with the Google Account. \n",
    "3. Once the account is created you will be redirected to https://apilayer.com website.\n",
    "2. Now, click on the **user icon** and click **Account** as shown below:\n",
    "\n",
    "<img src=\"https://cf-courses-data.s3.us.cloud-object-storage.appdomain.cloud/IBMDeveloperSkillsNetwork-PY0221EN-SkillsNetwork/labs/module%206/Final%20Assignment/Images/account.png\">\n",
    "\n",
    "3. Scroll down and you will get the API Key section. Copy the API key and use in the url in Question 1.\n"
   ]
  },
  {
   "cell_type": "markdown",
   "metadata": {},
   "source": [
    "### Call the API\n",
    "\n",
    " <b> Question 1</b> Using the `requests` library call the endpoint given above and save the text, remember the first few characters of the output: \n"
   ]
  },
  {
   "cell_type": "code",
   "execution_count": 9,
   "metadata": {
    "tags": []
   },
   "outputs": [
    {
     "data": {
      "text/plain": [
       "{'success': True,\n",
       " 'timestamp': 1691512623,\n",
       " 'base': 'EUR',\n",
       " 'date': '2023-08-08',\n",
       " 'rates': {'AED': 4.023806,\n",
       "  'AFN': 93.145933,\n",
       "  'ALL': 103.302513,\n",
       "  'AMD': 423.364762,\n",
       "  'ANG': 1.973766,\n",
       "  'AOA': 903.669047,\n",
       "  'ARS': 311.312128,\n",
       "  'AUD': 1.679076,\n",
       "  'AWG': 1.974629,\n",
       "  'AZN': 1.863984,\n",
       "  'BAM': 1.95554,\n",
       "  'BBD': 2.211366,\n",
       "  'BDT': 119.871897,\n",
       "  'BGN': 1.955173,\n",
       "  'BHD': 0.413034,\n",
       "  'BIF': 3103.073858,\n",
       "  'BMD': 1.095495,\n",
       "  'BND': 1.476777,\n",
       "  'BOB': 7.567719,\n",
       "  'BRL': 5.36979,\n",
       "  'BSD': 1.095235,\n",
       "  'BTC': 3.6929058e-05,\n",
       "  'BTN': 90.684049,\n",
       "  'BWP': 14.770769,\n",
       "  'BYN': 2.764383,\n",
       "  'BYR': 21471.693317,\n",
       "  'BZD': 2.207567,\n",
       "  'CAD': 1.472317,\n",
       "  'CDF': 2673.006415,\n",
       "  'CHF': 0.958815,\n",
       "  'CLF': 0.034146,\n",
       "  'CLP': 942.169324,\n",
       "  'CNY': 7.906956,\n",
       "  'COP': 4433.389787,\n",
       "  'CRC': 592.899635,\n",
       "  'CUC': 1.095495,\n",
       "  'CUP': 29.030606,\n",
       "  'CVE': 110.24835,\n",
       "  'CZK': 24.285146,\n",
       "  'DJF': 195.000551,\n",
       "  'DKK': 7.450886,\n",
       "  'DOP': 61.919518,\n",
       "  'DZD': 148.859113,\n",
       "  'EGP': 33.845417,\n",
       "  'ERN': 16.432418,\n",
       "  'ETB': 60.376131,\n",
       "  'EUR': 1,\n",
       "  'FJD': 2.455277,\n",
       "  'FKP': 0.858007,\n",
       "  'GBP': 0.859969,\n",
       "  'GEL': 2.853769,\n",
       "  'GGP': 0.858007,\n",
       "  'GHS': 12.265924,\n",
       "  'GIP': 0.858007,\n",
       "  'GMD': 66.200484,\n",
       "  'GNF': 9418.577594,\n",
       "  'GTQ': 8.613738,\n",
       "  'GYD': 229.311183,\n",
       "  'HKD': 8.560299,\n",
       "  'HNL': 26.935424,\n",
       "  'HRK': 7.365951,\n",
       "  'HTG': 149.498787,\n",
       "  'HUF': 389.699984,\n",
       "  'IDR': 16639.850249,\n",
       "  'ILS': 4.078762,\n",
       "  'IMP': 0.858007,\n",
       "  'INR': 90.796015,\n",
       "  'IQD': 1434.709521,\n",
       "  'IRR': 46353.117,\n",
       "  'ISK': 144.506563,\n",
       "  'JEP': 0.858007,\n",
       "  'JMD': 169.235214,\n",
       "  'JOD': 0.775721,\n",
       "  'JPY': 156.962327,\n",
       "  'KES': 157.03925,\n",
       "  'KGS': 96.2615,\n",
       "  'KHR': 4527.316279,\n",
       "  'KMF': 492.78087,\n",
       "  'KPW': 985.939687,\n",
       "  'KRW': 1442.428603,\n",
       "  'KWD': 0.337105,\n",
       "  'KYD': 0.912662,\n",
       "  'KZT': 489.230582,\n",
       "  'LAK': 21274.20455,\n",
       "  'LBP': 16438.817272,\n",
       "  'LKR': 351.570115,\n",
       "  'LRD': 204.51648,\n",
       "  'LSL': 20.487702,\n",
       "  'LTL': 3.23471,\n",
       "  'LVL': 0.662654,\n",
       "  'LYD': 5.249207,\n",
       "  'MAD': 10.621344,\n",
       "  'MDL': 19.357723,\n",
       "  'MGA': 4873.175079,\n",
       "  'MKD': 61.522838,\n",
       "  'MMK': 2299.963154,\n",
       "  'MNT': 3786.580952,\n",
       "  'MOP': 8.810209,\n",
       "  'MRO': 391.091368,\n",
       "  'MUR': 50.174102,\n",
       "  'MVR': 16.815717,\n",
       "  'MWK': 1187.798932,\n",
       "  'MXN': 18.754779,\n",
       "  'MYR': 5.020106,\n",
       "  'MZN': 69.289881,\n",
       "  'NAD': 20.485837,\n",
       "  'NGN': 822.683667,\n",
       "  'NIO': 40.063949,\n",
       "  'NOK': 11.256634,\n",
       "  'NPR': 145.097749,\n",
       "  'NZD': 1.809856,\n",
       "  'OMR': 0.421774,\n",
       "  'PAB': 1.095235,\n",
       "  'PEN': 4.047507,\n",
       "  'PGK': 3.979417,\n",
       "  'PHP': 61.837392,\n",
       "  'PKR': 315.421804,\n",
       "  'PLN': 4.457732,\n",
       "  'PYG': 7955.798505,\n",
       "  'QAR': 3.988682,\n",
       "  'RON': 4.949112,\n",
       "  'RSD': 117.265046,\n",
       "  'RUB': 106.48756,\n",
       "  'RWF': 1290.211039,\n",
       "  'SAR': 4.10993,\n",
       "  'SBD': 9.16796,\n",
       "  'SCR': 14.654258,\n",
       "  'SDG': 658.892576,\n",
       "  'SEK': 11.735535,\n",
       "  'SGD': 1.476393,\n",
       "  'SHP': 1.332943,\n",
       "  'SLE': 22.896285,\n",
       "  'SLL': 21636.017247,\n",
       "  'SOS': 623.880395,\n",
       "  'SSP': 658.944145,\n",
       "  'SRD': 42.036284,\n",
       "  'STD': 22674.525535,\n",
       "  'SYP': 14350.978971,\n",
       "  'SZL': 20.594172,\n",
       "  'THB': 38.373533,\n",
       "  'TJS': 12.030938,\n",
       "  'TMT': 3.834231,\n",
       "  'TND': 3.383709,\n",
       "  'TOP': 2.590628,\n",
       "  'TRY': 29.598397,\n",
       "  'TTD': 7.431742,\n",
       "  'TWD': 34.887663,\n",
       "  'TZS': 2710.69065,\n",
       "  'UAH': 40.243706,\n",
       "  'UGX': 3964.401291,\n",
       "  'USD': 1.095495,\n",
       "  'UYU': 41.704082,\n",
       "  'UZS': 12775.18729,\n",
       "  'VEF': 3294048.966212,\n",
       "  'VES': 32.937791,\n",
       "  'VND': 26007.040783,\n",
       "  'VUV': 131.43601,\n",
       "  'WST': 3.000275,\n",
       "  'XAF': 655.857951,\n",
       "  'XAG': 0.048102,\n",
       "  'XAU': 0.000568,\n",
       "  'XCD': 2.960629,\n",
       "  'XDR': 0.819176,\n",
       "  'XOF': 655.857951,\n",
       "  'XPF': 119.573254,\n",
       "  'YER': 274.257407,\n",
       "  'ZAR': 20.748502,\n",
       "  'ZMK': 9860.770795,\n",
       "  'ZMW': 20.945646,\n",
       "  'ZWL': 352.7488}}"
      ]
     },
     "execution_count": 9,
     "metadata": {},
     "output_type": "execute_result"
    }
   ],
   "source": [
    "# Write your code here\n",
    "import requests\n",
    "import json\n",
    "key=\"dciO4michyz8YamfFkaMtchgntgsc2ac\"\n",
    "\n",
    "url = f\"https://api.apilayer.com/exchangerates_data/latest?base=EUR\"\n",
    "PARAMS = {'apikey':key}#Make sure to change ******* to your API key.\n",
    "req=requests.get(url,params=PARAMS)\n",
    "text=req.content\n",
    "json_obj=json.loads(text)\n",
    "json_obj"
   ]
  },
  {
   "cell_type": "markdown",
   "metadata": {},
   "source": [
    "### Save as DataFrame\n",
    "\n",
    " <b> Question 2</b>  Using the data gathered turn it into a `pandas` dataframe. The dataframe should have the Currency as the index and `Rate` as their columns. Make sure to drop unnecessary columns.\n"
   ]
  },
  {
   "cell_type": "code",
   "execution_count": 25,
   "metadata": {
    "tags": []
   },
   "outputs": [
    {
     "data": {
      "text/html": [
       "<div>\n",
       "<style scoped>\n",
       "    .dataframe tbody tr th:only-of-type {\n",
       "        vertical-align: middle;\n",
       "    }\n",
       "\n",
       "    .dataframe tbody tr th {\n",
       "        vertical-align: top;\n",
       "    }\n",
       "\n",
       "    .dataframe thead th {\n",
       "        text-align: right;\n",
       "    }\n",
       "</style>\n",
       "<table border=\"1\" class=\"dataframe\">\n",
       "  <thead>\n",
       "    <tr style=\"text-align: right;\">\n",
       "      <th></th>\n",
       "      <th>Rates</th>\n",
       "    </tr>\n",
       "  </thead>\n",
       "  <tbody>\n",
       "    <tr>\n",
       "      <th>AED</th>\n",
       "      <td>4.023806</td>\n",
       "    </tr>\n",
       "    <tr>\n",
       "      <th>AFN</th>\n",
       "      <td>93.145933</td>\n",
       "    </tr>\n",
       "    <tr>\n",
       "      <th>ALL</th>\n",
       "      <td>103.302513</td>\n",
       "    </tr>\n",
       "    <tr>\n",
       "      <th>AMD</th>\n",
       "      <td>423.364762</td>\n",
       "    </tr>\n",
       "    <tr>\n",
       "      <th>ANG</th>\n",
       "      <td>1.973766</td>\n",
       "    </tr>\n",
       "  </tbody>\n",
       "</table>\n",
       "</div>"
      ],
      "text/plain": [
       "          Rates\n",
       "AED    4.023806\n",
       "AFN   93.145933\n",
       "ALL  103.302513\n",
       "AMD  423.364762\n",
       "ANG    1.973766"
      ]
     },
     "execution_count": 25,
     "metadata": {},
     "output_type": "execute_result"
    }
   ],
   "source": [
    "# Turn the data into a dataframe\n",
    "import pandas as pd\n",
    "dict_1=json_obj[\"rates\"]\n",
    "#print(dict_1)\n",
    "df=pd.DataFrame.from_dict(dict_1,orient='index',columns=[\"Rates\"])\n",
    "df.head()"
   ]
  },
  {
   "cell_type": "code",
   "execution_count": null,
   "metadata": {},
   "outputs": [],
   "source": [
    "# Drop unnescessary columns\n"
   ]
  },
  {
   "cell_type": "markdown",
   "metadata": {},
   "source": [
    "### Load the Data\n",
    "\n",
    "Using the dataframe save it as a CSV names `exchange_rates_1.csv`.\n"
   ]
  },
  {
   "cell_type": "code",
   "execution_count": 26,
   "metadata": {
    "tags": []
   },
   "outputs": [],
   "source": [
    "# Save the Dataframe\n",
    "df.to_csv(\"exchange_rates_1.csv\")"
   ]
  },
  {
   "cell_type": "markdown",
   "metadata": {},
   "source": [
    "Your CSV should be in this format with more currencies\n",
    "\n",
    "| | Rates |\n",
    "| ------- | ------- |\n",
    "|  AED| 4.398618    |\n",
    "|  AFN| 92.917693   |  \n",
    "|  ALL| 123.099093  |\n",
    "|  AMD| 621.935674  |\n",
    "|  ANG| 2.149648    | \n"
   ]
  },
  {
   "cell_type": "markdown",
   "metadata": {},
   "source": [
    "## Authors\n"
   ]
  },
  {
   "cell_type": "markdown",
   "metadata": {},
   "source": [
    "Ramesh Sannareddy, Joseph Santarcangelo and Azim Hirjani\n"
   ]
  },
  {
   "cell_type": "markdown",
   "metadata": {},
   "source": [
    "### Other Contributors\n"
   ]
  },
  {
   "cell_type": "markdown",
   "metadata": {},
   "source": [
    "Rav Ahuja\n"
   ]
  },
  {
   "cell_type": "markdown",
   "metadata": {},
   "source": [
    "## Change Log\n"
   ]
  },
  {
   "cell_type": "markdown",
   "metadata": {},
   "source": [
    "| Date (YYYY-MM-DD) | Version | Changed By        | Change Description                 |\n",
    "| ----------------- | ------- | ----------------- | ---------------------------------- |\n",
    "| 2022-05-06        | 0.3     | Malika            | Updated instructions to get the API and the url|\n",
    "| 2021-04-15        | 0.2     | Malika            | Updated the lab from USD to EUR    |\n",
    "| 2020-11-25        | 0.1     | Ramesh Sannareddy | Created initial version of the lab |\n"
   ]
  },
  {
   "cell_type": "markdown",
   "metadata": {},
   "source": [
    " Copyright © 2020 IBM Corporation. This notebook and its source code are released under the terms of the [MIT License](https://cognitiveclass.ai/mit-license?utm_medium=Exinfluencer&utm_source=Exinfluencer&utm_content=000026UJ&utm_term=10006555&utm_id=NA-SkillsNetwork-Channel-SkillsNetworkCoursesIBMDeveloperSkillsNetworkPY0221ENSkillsNetwork899-2023-01-01&cm_mmc=Email_Newsletter-_-Developer_Ed%2BTech-_-WW_WW-_-SkillsNetwork-Courses-IBM-DA0321EN-SkillsNetwork-21426264&cm_mmca1=000026UJ&cm_mmca2=10006555&cm_mmca3=M12345678&cvosrc=email.Newsletter.M12345678&cvo_campaign=000026UJ).\n"
   ]
  }
 ],
 "metadata": {
  "kernelspec": {
   "display_name": "Python",
   "language": "python",
   "name": "conda-env-python-py"
  },
  "language_info": {
   "codemirror_mode": {
    "name": "ipython",
    "version": 3
   },
   "file_extension": ".py",
   "mimetype": "text/x-python",
   "name": "python",
   "nbconvert_exporter": "python",
   "pygments_lexer": "ipython3",
   "version": "3.7.12"
  }
 },
 "nbformat": 4,
 "nbformat_minor": 4
}
